{
  "nbformat": 4,
  "nbformat_minor": 0,
  "metadata": {
    "colab": {
      "provenance": []
    },
    "kernelspec": {
      "name": "python3",
      "display_name": "Python 3"
    },
    "language_info": {
      "name": "python"
    }
  },
  "cells": [
    {
      "cell_type": "code",
      "source": [
        "import pandas as pd\n",
        "from sklearn.preprocessing import LabelEncoder\n",
        "from sklearn.neighbors import KNeighborsClassifier\n",
        "from sklearn.model_selection import train_test_split\n",
        "\n",
        "# Load the loan dataset (assuming it's in a CSV file)\n",
        "loan_data = pd.read_csv('/content/trainloan.csv')\n",
        "\n",
        "# Preprocess the data\n",
        "# Drop irrelevant columns or those with missing values\n",
        "loan_data = loan_data.drop(['Loan_ID'], axis=1)\n",
        "loan_data = loan_data.dropna()\n",
        "loan_data.to_csv('trained.csv', index=False)\n"
      ],
      "metadata": {
        "id": "BR4FWidjTHdy"
      },
      "execution_count": 105,
      "outputs": []
    },
    {
      "cell_type": "code",
      "source": [
        "loan_data = pd.read_csv('/content/trained.csv')\n",
        "# Convert categorical variables to numerical using label encoding\n",
        "label_encoder = LabelEncoder()\n",
        "loan_data['Gender'] = label_encoder.fit_transform(loan_data['Gender'])\n",
        "loan_data['Married'] = label_encoder.fit_transform(loan_data['Married'])\n",
        "loan_data['Education'] = label_encoder.fit_transform(loan_data['Education'])\n",
        "loan_data['Self_Employed'] = label_encoder.fit_transform(loan_data['Self_Employed'])\n",
        "loan_data['Property_Area'] = label_encoder.fit_transform(loan_data['Property_Area'])\n",
        "\n",
        "# One-hot encode categorical variables\n",
        "loan_data = pd.get_dummies(loan_data, columns=['Dependents', 'Credit_History'])\n",
        "loan_data['ApplicantIncome'] = (loan_data['ApplicantIncome'] - loan_data['ApplicantIncome'].mean()) / loan_data['ApplicantIncome'].std()\n",
        "loan_data['CoapplicantIncome'] = (loan_data['CoapplicantIncome'] - loan_data['CoapplicantIncome'].mean()) / loan_data['CoapplicantIncome'].std()\n",
        "loan_data['LoanAmount'] = (loan_data['LoanAmount'] - loan_data['LoanAmount'].mean()) / loan_data['LoanAmount'].std()\n",
        "\n"
      ],
      "metadata": {
        "id": "H6vZjkeTZ1uz"
      },
      "execution_count": 107,
      "outputs": []
    },
    {
      "cell_type": "code",
      "source": [
        "\n",
        "\n",
        "# Split the dataset into training and testing sets\n",
        "X = loan_data.drop('Loan_Status', axis=1)\n",
        "y = loan_data['Loan_Status']\n",
        "X_train, X_test, y_train, y_test = train_test_split(X, y, test_size=0.2, random_state=42)\n",
        "\n",
        "# Train the KNN classifier\n",
        "knn_classifier = KNeighborsClassifier(n_neighbors=5)\n",
        "knn_classifier.fit(X_train, y_train)\n",
        "\n",
        "# Make predictions on the testing set\n",
        "y_pred = knn_classifier.predict(X_test)\n",
        "print(y_pred)\n",
        "\n"
      ],
      "metadata": {
        "colab": {
          "base_uri": "https://localhost:8080/"
        },
        "id": "Mgvq6CWhWJdO",
        "outputId": "26b377e8-4028-4141-b375-b36c8229753e"
      },
      "execution_count": 108,
      "outputs": [
        {
          "output_type": "stream",
          "name": "stdout",
          "text": [
            "['Y' 'Y' 'Y' 'N' 'Y' 'N' 'Y' 'Y' 'Y' 'Y' 'Y' 'Y' 'Y' 'Y' 'Y' 'Y' 'N' 'N'\n",
            " 'Y' 'Y' 'Y' 'Y' 'Y' 'Y' 'Y' 'Y' 'Y' 'N' 'Y' 'Y' 'Y' 'Y' 'Y' 'Y' 'Y' 'Y'\n",
            " 'Y' 'Y' 'Y' 'N' 'Y' 'Y' 'Y' 'Y' 'Y' 'N' 'Y' 'Y' 'Y' 'N' 'N' 'Y' 'Y' 'Y'\n",
            " 'Y' 'Y' 'Y' 'Y' 'Y' 'Y' 'Y' 'Y' 'Y' 'N' 'Y' 'Y' 'Y' 'Y' 'Y' 'Y' 'Y' 'Y'\n",
            " 'Y' 'Y' 'Y' 'Y' 'Y' 'Y' 'Y' 'Y' 'Y' 'Y' 'Y' 'Y' 'Y' 'N' 'Y' 'Y' 'Y' 'Y'\n",
            " 'N' 'Y' 'Y' 'Y' 'Y' 'Y']\n"
          ]
        }
      ]
    },
    {
      "cell_type": "code",
      "source": [
        "test_data = pd.read_csv('/content/testloan.csv')\n",
        "\n",
        "# Preprocess the data\n",
        "# Drop irrelevant columns or those with missing values\n",
        "test_data = test_data.drop(['Loan_ID'], axis=1)\n",
        "test_data = test_data.dropna()\n",
        "test_data.to_csv('tested.csv', index=False)"
      ],
      "metadata": {
        "id": "eKyFmzJCc-Z9"
      },
      "execution_count": 109,
      "outputs": []
    },
    {
      "cell_type": "code",
      "source": [
        "test_data = pd.read_csv('/content/tested.csv')\n",
        "# Convert categorical variables to numerical using label encoding\n",
        "label_encoder = LabelEncoder()\n",
        "test_data['Gender'] = label_encoder.fit_transform(test_data['Gender'])\n",
        "test_data['Married'] = label_encoder.fit_transform(test_data['Married'])\n",
        "test_data['Education'] = label_encoder.fit_transform(test_data['Education'])\n",
        "test_data['Self_Employed'] = label_encoder.fit_transform(test_data['Self_Employed'])\n",
        "test_data['Property_Area'] = label_encoder.fit_transform(test_data['Property_Area'])\n",
        "#test_data['ApplicantIncome'] = label_encoder.fit_transform(test_data['ApplicantIncome'])\n",
        "# One-hot encode categorical variables\n",
        "test_data = pd.get_dummies(test_data, columns=['Dependents', 'Credit_History'])\n",
        "\n",
        "\n"
      ],
      "metadata": {
        "id": "WKcomzMudKG8"
      },
      "execution_count": 110,
      "outputs": []
    },
    {
      "cell_type": "code",
      "source": [
        "missing_cols = set(X_train.columns) - set(test_data.columns)\n",
        "for col in missing_cols:\n",
        "    test_data[col] = 0\n",
        "\n",
        "# Reorder the columns to match the training dataset\n",
        "test_data = test_data[X_train.columns]\n"
      ],
      "metadata": {
        "id": "UQ4TQcf2klDw"
      },
      "execution_count": 111,
      "outputs": []
    },
    {
      "cell_type": "code",
      "source": [
        "predictions = knn_classifier.predict(test_data)\n",
        "test_data['Loan_Status'] = predictions\n",
        "\n",
        "# Save the test data with the predicted values to a new CSV file\n",
        "test_data.to_csv('output.csv', index=False)\n",
        "# Print the predictions\n",
        "print(predictions)"
      ],
      "metadata": {
        "colab": {
          "base_uri": "https://localhost:8080/"
        },
        "id": "TWuLWDl-dn-m",
        "outputId": "d4fd9aee-f8b3-4337-97fd-348abd3db35b"
      },
      "execution_count": 112,
      "outputs": [
        {
          "output_type": "stream",
          "name": "stdout",
          "text": [
            "['Y' 'N' 'N' 'N' 'N' 'N' 'N' 'N' 'N' 'Y' 'Y' 'N' 'N' 'N' 'Y' 'N' 'Y' 'N'\n",
            " 'Y' 'N' 'N' 'N' 'N' 'Y' 'N' 'N' 'N' 'N' 'N' 'Y' 'N' 'Y' 'N' 'N' 'N' 'N'\n",
            " 'Y' 'Y' 'N' 'N' 'Y' 'Y' 'N' 'N' 'Y' 'N' 'Y' 'N' 'Y' 'Y' 'N' 'N' 'N' 'Y'\n",
            " 'N' 'Y' 'N' 'N' 'N' 'Y' 'N' 'Y' 'Y' 'Y' 'N' 'Y' 'N' 'Y' 'Y' 'N' 'N' 'N'\n",
            " 'N' 'Y' 'N' 'N' 'N' 'Y' 'N' 'N' 'Y' 'N' 'N' 'Y' 'N' 'N' 'N' 'N' 'Y' 'N'\n",
            " 'N' 'N' 'N' 'N' 'N' 'N' 'N' 'N' 'N' 'Y' 'Y' 'Y' 'Y' 'Y' 'N' 'N' 'N' 'N'\n",
            " 'Y' 'N' 'N' 'N' 'Y' 'Y' 'Y' 'Y' 'N' 'Y' 'N' 'Y' 'N' 'N' 'Y' 'N' 'Y' 'N'\n",
            " 'N' 'N' 'N' 'Y' 'N' 'Y' 'N' 'N' 'N' 'N' 'N' 'N' 'N' 'Y' 'N' 'Y' 'N' 'Y'\n",
            " 'N' 'N' 'N' 'N' 'N' 'Y' 'N' 'Y' 'N' 'Y' 'Y' 'Y' 'Y' 'Y' 'N' 'Y' 'N' 'N'\n",
            " 'Y' 'N' 'N' 'N' 'N' 'N' 'N' 'N' 'Y' 'Y' 'N' 'Y' 'Y' 'N' 'N' 'N' 'N' 'Y'\n",
            " 'Y' 'N' 'N' 'N' 'N' 'Y' 'N' 'N' 'Y' 'N' 'N' 'N' 'N' 'N' 'N' 'N' 'N' 'N'\n",
            " 'N' 'N' 'N' 'Y' 'N' 'N' 'N' 'N' 'N' 'N' 'N' 'N' 'N' 'Y' 'N' 'N' 'N' 'Y'\n",
            " 'N' 'N' 'N' 'Y' 'Y' 'N' 'N' 'Y' 'N' 'Y' 'Y' 'N' 'Y' 'N' 'N' 'N' 'N' 'N'\n",
            " 'N' 'N' 'Y' 'N' 'Y' 'N' 'Y' 'N' 'Y' 'N' 'Y' 'Y' 'Y' 'N' 'N' 'N' 'N' 'N'\n",
            " 'Y' 'Y' 'Y' 'Y' 'Y' 'Y' 'Y' 'Y' 'Y' 'N' 'N' 'N' 'N' 'N' 'N' 'N' 'Y' 'Y'\n",
            " 'Y' 'Y' 'N' 'N' 'N' 'Y' 'Y' 'Y' 'Y' 'Y' 'Y' 'N' 'N' 'N' 'N' 'N' 'N' 'N'\n",
            " 'Y']\n"
          ]
        }
      ]
    }
  ]
}